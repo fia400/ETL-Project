{
 "cells": [
  {
   "cell_type": "code",
   "execution_count": 42,
   "metadata": {},
   "outputs": [],
   "source": [
    "#import dependency\n",
    "import pandas as pd\n"
   ]
  },
  {
   "cell_type": "code",
   "execution_count": null,
   "metadata": {},
   "outputs": [],
   "source": [
    "#import 1st file and put in to dataframe\n",
    "file = r'C:/temp/Call-Data-for-North-Area-Project_2019-12-19.csv'\n",
    "df = pd.read_csv(file, low_memory=False)"
   ]
  },
  {
   "cell_type": "code",
   "execution_count": 44,
   "metadata": {},
   "outputs": [],
   "source": [
    "#rename column headers\n",
    "renamed_df = df.rename(columns={'Basic Incident Alarm Date Time (FD1.26)':'Date', 'Basic Incident Year (FD1.3)':'Year', 'Basic Incident City Name (FD1.16)': 'City', 'Basic Incident Full Address': 'Address', 'Basic Incident County Name (FD1.17)': 'County', 'Basic Incident Zone/District Number (FD1.32)': 'Zone', 'Basic Incident Number (FD1)': 'Basic Incident Number', 'Basic Incident Type Code And Description (FD1.21)': 'Incident Type', 'Basic Incident Type Code (FD1.21)': 'Incident Type Code', 'Basic Aid Given Or Received (FD1.22)': 'Basic Aid Given Or Received', 'Basic Incident Latitude (FD1.69)': 'BI Latitude', 'Basic Incident Longitude (FD1.69)': 'BI Longitude', 'Basic Incident Geocoded Latitude': 'Latitude', 'Basic Incident Geocoded Longitude': 'Longitude', 'Basic Incident Postal Code (FD1.19)': 'ZIPCODE', 'Basic Response Mode To Scene (FD1.70)': 'Response Mode', 'Basic Property Use (FD1.46)': 'Basic Property Use','Basic Shift Or Platoon (FD1.30)': 'Shift Or Platoon', 'Basic Incident State (FD1.18)': 'Incident State','Basic Primary Station Name (FD1.4)': 'Station Name'})"
   ]
  },
  {
   "cell_type": "code",
   "execution_count": 60,
   "metadata": {},
   "outputs": [],
   "source": [
    "#import second file(referred to as FH_data in description) and put in to dataframe\n",
    "file2 = r'C:/temp/ACFR_CAD2CAD_2017_2019.csv'\n",
    "df2 = pd.read_csv(file2)"
   ]
  },
  {
   "cell_type": "code",
   "execution_count": 63,
   "metadata": {},
   "outputs": [],
   "source": [
    "#import third file and put in to dataframe\n",
    "file3 = r'C:/temp/ACFR_CAD2CAD_2015_March2017.csv'\n",
    "df3 = pd.read_csv(file2)\n"
   ]
  },
  {
   "cell_type": "code",
   "execution_count": 61,
   "metadata": {},
   "outputs": [],
   "source": [
    "#combine df2 and df3 data which completes the 5 year data set from two seperate databases\n",
    "ACFR_df = pd.concat([df2, df3], axis=0)\n"
   ]
  },
  {
   "cell_type": "code",
   "execution_count": 62,
   "metadata": {},
   "outputs": [],
   "source": [
    "#Rename column names to match df1\n",
    "ACFR1_df = ACFR_df.rename(columns={'Basic Incident Alarm Date Time (FD1.26)':'Date', 'Basic Incident Year (FD1.3)':'Year', 'Basic Incident City Name (FD1.16)': 'City', 'Basic Incident Full Address': 'Address', 'Basic Incident County Name (FD1.17)': 'County', 'Basic Incident Zone/District Number (FD1.32)': 'Zone', 'Basic Incident Number (FD1)': 'Basic Incident Number', 'Basic Incident Type Code And Description (FD1.21)': 'Incident Type', 'Basic Incident Type Code (FD1.21)': 'Incident Type Code', 'Basic Aid Given Or Received (FD1.22)': 'Basic Aid Given Or Received', 'Basic Incident Latitude (FD1.69)': 'BI Latitude', 'Basic Incident Longitude (FD1.69)': 'BI Longitude', 'Basic Incident Geocoded Latitude': 'Latitude', 'Basic Incident Geocoded Longitude': 'Longitude', 'Basic Incident Postal Code (FD1.19)': 'ZIPCODE', 'Basic Response Mode To Scene (FD1.70)': 'Response Mode', 'Basic Property Use (FD1.46)': 'Basic Property Use','Basic Shift Or Platoon (FD1.30)': 'Shift Or Platoon', 'Basic Incident State (FD1.18)': 'Incident State','Basic Primary Station Name (FD1.4)': 'Station Name'})\n"
   ]
  },
  {
   "cell_type": "code",
   "execution_count": 56,
   "metadata": {},
   "outputs": [],
   "source": [
    "#combine df1 and ACFR1df to create combined 5 year dataset for two different fire departments\n",
    "NAC2C_df = pd.concat([renamed_df, ACFR1_df], axis=0, sort=False)"
   ]
  },
  {
   "cell_type": "code",
   "execution_count": 59,
   "metadata": {},
   "outputs": [],
   "source": [
    "#save combined data set to hard drive\n",
    "NAC2C_df.to_csv(r'C:/temp/NAC2C.csv', index=False, header = True)"
   ]
  },
  {
   "cell_type": "markdown",
   "metadata": {},
   "source": [
    "Next steps of moving to postres were performed by another team member who was working on the project simultaneously.\n",
    "The steps would normally be combined together within the same jupyter notebook file"
   ]
  }
 ],
 "metadata": {
  "kernelspec": {
   "display_name": "Python 3",
   "language": "python",
   "name": "python3"
  },
  "language_info": {
   "codemirror_mode": {
    "name": "ipython",
    "version": 3
   },
   "file_extension": ".py",
   "mimetype": "text/x-python",
   "name": "python",
   "nbconvert_exporter": "python",
   "pygments_lexer": "ipython3",
   "version": "3.7.4"
  }
 },
 "nbformat": 4,
 "nbformat_minor": 2
}
