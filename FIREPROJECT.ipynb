{
 "cells": [
  {
   "cell_type": "code",
   "execution_count": 246,
   "metadata": {},
   "outputs": [],
   "source": [
    "# Module used to connect Python with MongoDb\n",
    "import pymongo\n",
    "import json\n",
    "import pandas as pd\n",
    "import csv\n",
    "import sys, getopt, pprint\n",
    "\n",
    "#Establishing a connection in MongoDB requires us to create a MongoClient to the running MongoDB instance.\n",
    "from pymongo import MongoClient"
   ]
  },
  {
   "cell_type": "code",
   "execution_count": 247,
   "metadata": {},
   "outputs": [
    {
     "data": {
      "text/plain": [
       "MongoClient(host=['localhost:27017'], document_class=dict, tz_aware=False, connect=True, read_preference=Primary())"
      ]
     },
     "execution_count": 247,
     "metadata": {},
     "output_type": "execute_result"
    }
   ],
   "source": [
    "##### NOT SURE IF WE NEED THIS, AND IF ITS TESTING THE CONNECTION TO SEE IF YOU'RE ONLINE WITH CONNECT=TRUE\n",
    "from mongoengine import *\n",
    "connect('mongoengine_test', host='localhost', port=27017)"
   ]
  },
  {
   "cell_type": "code",
   "execution_count": 248,
   "metadata": {},
   "outputs": [],
   "source": [
    "## The default port used by MongoDB is 27017\n",
    "conn = 'mongodb://localhost:27017'\n",
    "client = pymongo.MongoClient(conn)"
   ]
  },
  {
   "cell_type": "code",
   "execution_count": 249,
   "metadata": {},
   "outputs": [],
   "source": [
    "#If database already exists, drop it before creating new\n",
    "\n",
    "client.drop_database('fires')     #do we want to name it this?\n",
    "\n",
    "# Define database in Mongo\n",
    "\n",
    "db = client['fires']  #do we want to name it this?"
   ]
  },
  {
   "cell_type": "code",
   "execution_count": 250,
   "metadata": {},
   "outputs": [],
   "source": [
    "#Create collection\n",
    "\n",
    "Collection_ACFPD = db['ACFPD']    #do we want to name it this?"
   ]
  },
  {
   "cell_type": "code",
   "execution_count": 251,
   "metadata": {},
   "outputs": [],
   "source": [
    "#Create collection \n",
    "\n",
    "Collection_North_Station = db['North_Station']   #do we want to name it this?"
   ]
  },
  {
   "cell_type": "code",
   "execution_count": 252,
   "metadata": {},
   "outputs": [],
   "source": [
    "#List out all the column headers and give value. MongoDB needs 1 entry in order to create a collection\n",
    "\n",
    "ACFPD_col = [\n",
    "    {'Date':'1/1/2018', \n",
    "    'Year': 2020,\n",
    "    'City': 'test',\n",
    "    'Address': 'test',\n",
    "    'County': 'test',\n",
    "    'Zone': 4,\n",
    "    'Basic Incident Number': 4, \n",
    "    'Incident Type': 'test', \n",
    "    'Incident Type Code': 5, \n",
    "    'Basic Aid Given Or Received': 'test', \n",
    "    'BI Latitude': 1.1, \n",
    "    'BI Longitude': 1.1,\n",
    "    'Latitude': 1.1,\n",
    "    'Longitude': 1.1, \n",
    "    'ZIPCODE': 333333, \n",
    "    'Response Mode': 'test',\n",
    "    'Basic Property Use': 'test',\n",
    "    'Shift Or Platoon': 'test', \n",
    "    'Incident State': 'test',\n",
    "    'Station Name': 'test'}\n",
    "]\n",
    "\n",
    "#Insert entry into the first collection to get column headers\n",
    "\n",
    "x = Collection_ACFPD.insert_many(ACFPD_col)"
   ]
  },
  {
   "cell_type": "code",
   "execution_count": 253,
   "metadata": {},
   "outputs": [],
   "source": [
    "#List out all the column headers and give value. MongoDB needs 1 entry in order to create a collection\n",
    "\n",
    "North_Col = [\n",
    "    {'Date':'1/1/2018', \n",
    "    'Year': 2020,\n",
    "    'City': 'test',\n",
    "    'Address': 'test',\n",
    "    'County': 'test',\n",
    "    'Zone': 4,\n",
    "    'Basic Incident Number': 4, \n",
    "    'Incident Type': 'test', \n",
    "    'Incident Type Code': 5, \n",
    "    'Basic Aid Given Or Received': 'test', \n",
    "    'BI Latitude': 1.1, \n",
    "    'BI Longitude': 1.1,\n",
    "    'Latitude': 1.1,\n",
    "    'Longitude': 1.1, \n",
    "    'ZIPCODE': 333333, \n",
    "    'Response Mode': 'test',\n",
    "    'Basic Property Use': 'test',\n",
    "    'Shift Or Platoon': 'test', \n",
    "    'Incident State': 'test',\n",
    "    'Station Name': 'test'}\n",
    "]\n",
    "\n",
    "#Insert entry into the second collection to get column headers\n",
    "\n",
    "x = Collection_North_Station.insert_many(North_Col)"
   ]
  },
  {
   "cell_type": "code",
   "execution_count": 254,
   "metadata": {},
   "outputs": [
    {
     "name": "stdout",
     "output_type": "stream",
     "text": [
      "['ACFPD', 'North_Station']\n"
     ]
    }
   ],
   "source": [
    "#Check that collections have been created\n",
    "\n",
    "print(db.list_collection_names())"
   ]
  },
  {
   "cell_type": "markdown",
   "metadata": {},
   "source": [
    "### TRYING TO IMPORT FROM CSV"
   ]
  },
  {
   "cell_type": "code",
   "execution_count": null,
   "metadata": {},
   "outputs": [],
   "source": [
    "#SOURCE: https://stackoverflow.com/questions/27416296/how-to-push-a-csv-data-to-mongodb-using-python/56241768\n",
    "#CSV to JSON Conversion\n",
    "csvfile = open('C://test//final-current.csv', 'r')    #NEED FILE LOCATION, NOT SURE WHAT \"r\" MEANS\n",
    "reader = csv.DictReader( csvfile ) \n",
    "Collection_ACFPD = db['ACFPD']\n",
    "db.segment.drop()   #MIGHT NEED TO CHANGE THE DB.SEGMENT \n",
    "header= ['Date',    #ADDED ALL THE HEADERS PATRICK PUT TOGETHER \n",
    "         'Year',\n",
    "         'City',\n",
    "         'Address',\n",
    "         'County',\n",
    "         'Zone',\n",
    "         'Basic Incident Number',\n",
    "         'Incident Type', \n",
    "         'Incident Type Code', \n",
    "         'Basic Aid Given Or Received', \n",
    "        'BI Latitude', \n",
    "        'BI Longitude',\n",
    "        'Latitude',\n",
    "        'Longitude', \n",
    "        'ZIPCODE', \n",
    "        'Response Mode',\n",
    "        'Basic Property Use',\n",
    "        'Shift Or Platoon', \n",
    "        'Incident State',\n",
    "        'Station Name']\n",
    "\n",
    "for each in reader:    #I THINK THIS IS A FOR LOOP TO ADD TO THE COLLECTION ACFPD FROM CSV TO MONGO\n",
    "    row={}\n",
    "    for field in header:\n",
    "        row[field]=each[field]\n",
    "\n",
    "    Collection_ACFPD.segment.insert(row)"
   ]
  },
  {
   "cell_type": "markdown",
   "metadata": {},
   "source": [
    "#### OR THIS WAY TO IMPORT"
   ]
  },
  {
   "cell_type": "code",
   "execution_count": null,
   "metadata": {},
   "outputs": [],
   "source": [
    "#ACFPD CSV UPLOAD\n",
    "#SOURCE: https://stackoverflow.com/questions/27416296/how-to-push-a-csv-data-to-mongodb-using-python/56241768\n",
    "# DB connectivity\n",
    "#client = MongoClient('localhost', 27017)\n",
    "#db = client.db\n",
    "#collection = db.collection\n",
    "\n",
    "# Function to parse csv to dictionary\n",
    "def csv_to_dict():\n",
    "    reader = csv.DictReader(open(FILEPATH))\n",
    "    result = {}\n",
    "    for row in reader:\n",
    "        key = row.pop('First_value')\n",
    "        result[key] = row\n",
    "    return query\n",
    "\n",
    "# Final insert statement (do i use insert_many or insert_all)\n",
    "db.Collection_ACFPD.insert_many(csv_to_dict())"
   ]
  },
  {
   "cell_type": "markdown",
   "metadata": {},
   "source": [
    "### ANOTHER WAY TO IMPORT FROM CSV"
   ]
  },
  {
   "cell_type": "code",
   "execution_count": 255,
   "metadata": {},
   "outputs": [
    {
     "ename": "IndentationError",
     "evalue": "unexpected indent (<ipython-input-255-b71668c6879a>, line 7)",
     "output_type": "error",
     "traceback": [
      "\u001b[0;36m  File \u001b[0;32m\"<ipython-input-255-b71668c6879a>\"\u001b[0;36m, line \u001b[0;32m7\u001b[0m\n\u001b[0;31m    mng_db = client['fires']\u001b[0m\n\u001b[0m    ^\u001b[0m\n\u001b[0;31mIndentationError\u001b[0m\u001b[0;31m:\u001b[0m unexpected indent\n"
     ]
    }
   ],
   "source": [
    "#Import CSV for ACFPD\n",
    "def import_csvfile(filepath):\n",
    "    conn = 'mongodb://localhost:27017'\n",
    "    client = pymongo.MongoClient(conn)\n",
    "    \n",
    "# Add Mongodb name from above 'fires'\n",
    "     db = client['fires'] \n",
    "    \n",
    "# Replace Mongodb collection name\n",
    "     collection_name = 'ACFPD' \n",
    "    \n",
    "\n",
    "     db_cm = client[collection_name]\n",
    "         cdir = os.path.dirname(__file__)\n",
    "    \n",
    "     file_res = os.path.join(cdir, filepath)\n",
    "         data = pd.read_csv(file_res)\n",
    "    \n",
    "     data_json = json.loads(data.to_json(orient='records'))\n",
    "     \n",
    "    \n",
    "     db_cm.remove()\n",
    "         db_cm.insert(data_json)\n",
    "        \n",
    "        \n",
    "if __name__ == \"__main__\":\n",
    "     filepath = '/path/to/csv' # pass csv file path\n",
    "         import_csvfile(filepath)\n",
    "    \n",
    "#WILL NEED TO REPEAT FOR 2ND COLLECTION\n",
    "#WHERE I FOUND THE LINK TO IMPORT CSV INTO \n",
    "#https://www.quora.com/How-can-I-import-a-CSV-file-data-to-MongoDB-using-Python-Flask"
   ]
  },
  {
   "cell_type": "code",
   "execution_count": null,
   "metadata": {},
   "outputs": [],
   "source": []
  },
  {
   "cell_type": "code",
   "execution_count": null,
   "metadata": {},
   "outputs": [],
   "source": []
  },
  {
   "cell_type": "code",
   "execution_count": null,
   "metadata": {},
   "outputs": [],
   "source": []
  },
  {
   "cell_type": "code",
   "execution_count": null,
   "metadata": {},
   "outputs": [],
   "source": []
  },
  {
   "cell_type": "code",
   "execution_count": null,
   "metadata": {},
   "outputs": [],
   "source": []
  },
  {
   "cell_type": "code",
   "execution_count": null,
   "metadata": {},
   "outputs": [],
   "source": []
  },
  {
   "cell_type": "code",
   "execution_count": null,
   "metadata": {},
   "outputs": [],
   "source": []
  },
  {
   "cell_type": "code",
   "execution_count": null,
   "metadata": {},
   "outputs": [],
   "source": []
  },
  {
   "cell_type": "markdown",
   "metadata": {},
   "source": [
    "### EXTRA CODE I WAS TESTING, YOU CAN IGNORE"
   ]
  },
  {
   "cell_type": "raw",
   "metadata": {},
   "source": [
    "import pymongo\n",
    "\n",
    "myclient = pymongo.MongoClient('mongodb://localhost:27017/')\n",
    "\n",
    "mydb = myclient['mydatabase']\n",
    "\n",
    "collist = mydb.list_collection_names()\n",
    "if \"customers\" in collist:\n",
    "    print(\"The collection exists.\")"
   ]
  },
  {
   "cell_type": "raw",
   "metadata": {},
   "source": [
    "col = db.create_collection(\n",
    "    name=ACFPD,\n",
    "    codec_options=None,\n",
    "    read_preference=None,\n",
    "    write_concern=None,\n",
    "    read_concern=None,\n",
    "    session=None,\n",
    "    collation=colla\n",
    "    )\n",
    "except Exception as err:\n",
    "# collection already exists\n",
    "if \"already exists\" in err._message:\n",
    "    col = db[collection_name]\n",
    "else:\n",
    "    print (\"create_collection() ERROR:\", err)\n",
    "\n",
    "    col = None\n",
    "\n",
    "print (\"Collection name:\", col.name)"
   ]
  },
  {
   "cell_type": "code",
   "execution_count": 39,
   "metadata": {},
   "outputs": [],
   "source": []
  },
  {
   "cell_type": "raw",
   "metadata": {},
   "source": [
    "collist = mydb.list_collection_names()\n",
    "if \"customers\" in collist:\n",
    "  print(\"The collection exists.\")"
   ]
  },
  {
   "cell_type": "raw",
   "metadata": {},
   "source": [
    "for post in posts.find():\n",
    "...   pprint.pprint(post)"
   ]
  },
  {
   "cell_type": "raw",
   "metadata": {},
   "source": [
    "#SHOULD I BE PREPPING THE DATABASE THIS WAY????\n",
    "\n",
    "db.createCollection( <Northtwo>,\n",
    "   {\n",
    "     capped: <boolean>,\n",
    "     autoIndexId: <boolean>,\n",
    "     size: <number>,\n",
    "     max: <number>,\n",
    "     storageEngine: <document>,\n",
    "     validator: <document>,\n",
    "     validationLevel: <string>,\n",
    "     validationAction: <string>,\n",
    "     indexOptionDefaults: <document>,\n",
    "     viewOn: <string>,              // Added in MongoDB 3.4\n",
    "     pipeline: <pipeline>,          // Added in MongoDB 3.4\n",
    "     collation: <document>,         // Added in MongoDB 3.4\n",
    "     writeConcern: <document>\n",
    "   }\n",
    ")"
   ]
  }
 ],
 "metadata": {
  "kernelspec": {
   "display_name": "Python 3",
   "language": "python",
   "name": "python3"
  },
  "language_info": {
   "codemirror_mode": {
    "name": "ipython",
    "version": 3
   },
   "file_extension": ".py",
   "mimetype": "text/x-python",
   "name": "python",
   "nbconvert_exporter": "python",
   "pygments_lexer": "ipython3",
   "version": "3.7.4"
  }
 },
 "nbformat": 4,
 "nbformat_minor": 2
}
